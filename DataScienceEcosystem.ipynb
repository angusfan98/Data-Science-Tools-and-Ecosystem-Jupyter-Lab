{
 "cells": [
  {
   "cell_type": "markdown",
   "id": "90a0febe-4a7d-4b64-bf2a-3c606c49349c",
   "metadata": {
    "tags": []
   },
   "source": [
    "# Data Science Tools and Ecosystem"
   ]
  },
  {
   "cell_type": "markdown",
   "id": "c81425af-4063-4f88-982a-9f45ed23ccc4",
   "metadata": {},
   "source": [
    "In this notebook, Data Science Tools and Ecosystem are summarized."
   ]
  },
  {
   "cell_type": "markdown",
   "id": "47724d6c-4986-4aea-b5b9-4022b6cdeb6e",
   "metadata": {},
   "source": [
    "**Objectives**\n",
    "* List of popular languages for Data Science\n",
    "* List of commonly used libraries for Data Science\n",
    "* List of Data Science Tools"
   ]
  },
  {
   "cell_type": "markdown",
   "id": "f142271b-119a-4b1c-9894-9c45b655a9b1",
   "metadata": {
    "tags": []
   },
   "source": [
    "Some of the popular languages that Data Scientists use are:\n",
    "1. Python\n",
    "2. Java\n",
    "3. Scala"
   ]
  },
  {
   "cell_type": "markdown",
   "id": "1114daa2-e0e8-475d-9b6f-fcb3833b9689",
   "metadata": {},
   "source": [
    "Some of the commonly used libraries used by Data Scientists include:\n",
    "1. Pandas\n",
    "2. NumPy\n",
    "3. Scikit-learn"
   ]
  },
  {
   "cell_type": "markdown",
   "id": "44ba222f-a56c-4a4f-8a0d-8ed29d9ef4b6",
   "metadata": {
    "tags": []
   },
   "source": [
    "Data Science Tools | \n",
    "---:|\n",
    "mongoDB | \n",
    "GitHub | \n",
    "PredictionIO |"
   ]
  },
  {
   "cell_type": "markdown",
   "id": "18509171-4417-436f-b78a-ac320656ea8e",
   "metadata": {},
   "source": [
    "### Below are a few examples of evaluating arithmetic expressions in Python"
   ]
  },
  {
   "cell_type": "code",
   "execution_count": 12,
   "id": "56a84a67-c919-4017-8c87-5db6b71912f3",
   "metadata": {
    "tags": []
   },
   "outputs": [
    {
     "data": {
      "text/plain": [
       "17"
      ]
     },
     "execution_count": 12,
     "metadata": {},
     "output_type": "execute_result"
    }
   ],
   "source": [
    "# This a simple arithmetic expression to mutiply then add integers\n",
    "(3*4)+5"
   ]
  },
  {
   "cell_type": "code",
   "execution_count": 13,
   "id": "5c5a8f6c-7a69-46b1-adc7-d317ae2c61de",
   "metadata": {
    "tags": []
   },
   "outputs": [
    {
     "data": {
      "text/plain": [
       "33.333333333333336"
      ]
     },
     "execution_count": 13,
     "metadata": {},
     "output_type": "execute_result"
    }
   ],
   "source": [
    "# This will convert 200 minutes to hours by diving by 60\n",
    "200/6"
   ]
  },
  {
   "cell_type": "markdown",
   "id": "b08a94b3-3b4d-4021-8de6-07adfb5aaad9",
   "metadata": {},
   "source": [
    "## Author\n",
    "Angus"
   ]
  },
  {
   "cell_type": "code",
   "execution_count": null,
   "id": "9c098f39-eb4b-4bb1-82b7-bd756ad194c9",
   "metadata": {},
   "outputs": [],
   "source": []
  }
 ],
 "metadata": {
  "kernelspec": {
   "display_name": "Python",
   "language": "python",
   "name": "conda-env-python-py"
  },
  "language_info": {
   "codemirror_mode": {
    "name": "ipython",
    "version": 3
   },
   "file_extension": ".py",
   "mimetype": "text/x-python",
   "name": "python",
   "nbconvert_exporter": "python",
   "pygments_lexer": "ipython3",
   "version": "3.7.12"
  }
 },
 "nbformat": 4,
 "nbformat_minor": 5
}
